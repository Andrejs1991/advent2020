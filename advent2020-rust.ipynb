{
 "cells": [
  {
   "cell_type": "code",
   "execution_count": 32,
   "metadata": {},
   "outputs": [],
   "source": [
    "use std::fs::File;\n",
    "use std::io::{BufRead, BufReader, Error, ErrorKind, Read};\n",
    "\n",
    "fn read_lines(path: &str) -> Result<Vec<String>, Error> {\n",
    "    let file = File::open(path)?; \n",
    "    BufReader::new(file).lines().collect()\n",
    "}\n",
    "\n",
    "fn read_integers(path: &str) -> Result<Vec<i64>, Error> {\n",
    "    let mut v = Vec::new();\n",
    "    for line in read_lines(path)? {\n",
    "        let n = line   \n",
    "            .trim() \n",
    "            .parse() \n",
    "            .map_err(|e| Error::new(ErrorKind::InvalidData, e))?; \n",
    "        v.push(n);\n",
    "    }\n",
    "    Ok(v)\n",
    "}\n",
    "\n",
    "let DATA_ROOT = \"data/\";"
   ]
  },
  {
   "cell_type": "code",
   "execution_count": 25,
   "metadata": {},
   "outputs": [
    {
     "name": "stdout",
     "output_type": "stream",
     "text": [
      "1564 * 456 = 713184\n",
      "764 * 857 * 399 = 261244452\n"
     ]
    },
    {
     "data": {
      "text/plain": [
       "()"
      ]
     },
     "execution_count": 25,
     "metadata": {},
     "output_type": "execute_result"
    }
   ],
   "source": [
    "// DAY01\n",
    "use std::collections::HashMap;\n",
    "\n",
    "const TOTAL: i64 = 2020;\n",
    "\n",
    "fn problem01(nums: Vec<i64>) {\n",
    "    let mut reg = HashMap::new();\n",
    "\n",
    "    for (i, n) in nums.iter().enumerate() {\n",
    "        let rest = TOTAL - n;\n",
    "        if reg.contains_key(&rest) {\n",
    "            println!(\"{} * {} = {}\", n, rest, n * rest);\n",
    "        }\n",
    "        reg.insert(n, i);\n",
    "    }\n",
    "    \n",
    "    for (i, n1) in nums.iter().enumerate() {\n",
    "        for j in (i + 1)..nums.len() {\n",
    "            let n2 = nums[j];\n",
    "            let rest = TOTAL - n1 - n2;\n",
    "            match reg.get(&rest) {\n",
    "                Some(k) if k > &j => {\n",
    "                    println!(\"{} * {} * {} = {}\", n1, n2, rest, n1 * n2 * rest)\n",
    "                },\n",
    "                _ => (),\n",
    "            }\n",
    "        }\n",
    "    }\n",
    "}\n",
    "\n",
    "let nums = read_integers(&format!(\"{}/01.txt\", DATA_ROOT))?;\n",
    "problem01(nums)"
   ]
  },
  {
   "cell_type": "code",
   "execution_count": 37,
   "metadata": {},
   "outputs": [
    {
     "name": "stdout",
     "output_type": "stream",
     "text": [
      "Number of valid passwords: 548, 502\n"
     ]
    }
   ],
   "source": [
    "// DAY02\n",
    "#[derive(Debug, PartialEq)]\n",
    "struct PasswordDesc {\n",
    "    cnt1: usize,\n",
    "    cnt2: usize,\n",
    "    ch: char,\n",
    "    pwd: String,\n",
    "}\n",
    "\n",
    "impl std::str::FromStr for PasswordDesc {\n",
    "    type Err = std::num::ParseIntError;\n",
    "    \n",
    "    fn from_str(s: &str) -> Result<Self, Self::Err> {\n",
    "        let parts: Vec<&str> = s.split(' ').collect();\n",
    "        let counts: Vec<usize> = parts[0]\n",
    "            .split('-')\n",
    "            .map(|p| p.parse().unwrap())\n",
    "            .collect();\n",
    "        Ok(PasswordDesc { \n",
    "            cnt1: counts[0], \n",
    "            cnt2: counts[1], \n",
    "            ch: parts[1].as_bytes()[0] as char, \n",
    "            pwd: parts[2].to_owned()})\n",
    "    }\n",
    "}\n",
    "\n",
    "fn is_valid1(p: &PasswordDesc) -> bool {\n",
    "    let cnt = p.pwd.matches(p.ch).count();\n",
    "    p.cnt1 <= cnt && cnt <= p.cnt2\n",
    "}\n",
    "\n",
    "fn is_valid2(p: &PasswordDesc) -> bool {\n",
    "    let pwd = p.pwd.as_bytes();\n",
    "    let ch = p.ch as u8;\n",
    "    (pwd[p.cnt1 - 1] == ch) ^ (pwd[p.cnt2 - 1] == ch)\n",
    "}\n",
    "\n",
    "let passwords: Vec<PasswordDesc> = \n",
    "    read_lines(&format!(\"{}/02.txt\", DATA_ROOT))?\n",
    "    .iter()\n",
    "    .filter_map(|line| line.parse().ok())\n",
    "    .collect();\n",
    "\n",
    "println!(\"Number of valid passwords: {}, {}\", \n",
    "    passwords.iter().filter(|x| is_valid1(x)).count(), \n",
    "    passwords.iter().filter(|x| is_valid2(x)).count());"
   ]
  },
  {
   "cell_type": "code",
   "execution_count": null,
   "metadata": {},
   "outputs": [],
   "source": []
  }
 ],
 "metadata": {
  "kernelspec": {
   "display_name": "Rust",
   "language": "rust",
   "name": "rust"
  },
  "language_info": {
   "codemirror_mode": "rust",
   "file_extension": ".rs",
   "mimetype": "text/rust",
   "name": "Rust",
   "pygment_lexer": "rust",
   "version": ""
  }
 },
 "nbformat": 4,
 "nbformat_minor": 4
}
