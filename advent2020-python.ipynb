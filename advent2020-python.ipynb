{
 "cells": [
  {
   "cell_type": "code",
   "execution_count": 3,
   "metadata": {},
   "outputs": [],
   "source": [
    "DATA_ROOT = 'data/'"
   ]
  },
  {
   "cell_type": "code",
   "execution_count": 2,
   "metadata": {},
   "outputs": [
    {
     "name": "stdout",
     "output_type": "stream",
     "text": [
      "1564 * 456 = 713184\n",
      "764 * 857 * 399 = 261244452\n"
     ]
    }
   ],
   "source": [
    "# DAY01\n",
    "nums = [int(x) for x in open(DATA_ROOT + '01.txt', 'r').readlines()]\n",
    "\n",
    "reg = {}\n",
    "\n",
    "TOTAL = 2020\n",
    "for i, n in enumerate(nums):\n",
    "    rest = TOTAL - n\n",
    "    if rest in reg:\n",
    "        print(f'{n} * {rest} = {n * rest}')\n",
    "    reg[n] = i\n",
    "    \n",
    "for i, n1 in enumerate(nums):\n",
    "    for j in range(i + 1, len(nums)):\n",
    "        n2 = nums[j]\n",
    "        rest = TOTAL - n1 - n2\n",
    "        if rest in reg and reg[rest] > j:\n",
    "            print(f'{n1} * {n2} * {rest} = {n1 * n2 * rest}')"
   ]
  },
  {
   "cell_type": "code",
   "execution_count": 3,
   "metadata": {},
   "outputs": [
    {
     "name": "stdout",
     "output_type": "stream",
     "text": [
      "Number of valid passwords: 548, 502\n"
     ]
    }
   ],
   "source": [
    "# DAY02\n",
    "def parse_line(line):\n",
    "    parts = line.strip().split()\n",
    "    counts = list(map(int, parts[0].split('-')))\n",
    "    return (counts[0], counts[1], parts[1][0], parts[2])\n",
    "\n",
    "def is_valid1(desc):\n",
    "    cnt1, cnt2, ch, pwd = desc\n",
    "    cnt = pwd.count(ch)\n",
    "    return cnt1 <= cnt <= cnt2\n",
    "\n",
    "def is_valid2(desc):\n",
    "    cnt1, cnt2, ch, pwd = desc\n",
    "    return (pwd[cnt1 - 1] == ch) ^ (pwd[cnt2 - 1] == ch)\n",
    "    \n",
    "passwords = list(map(parse_line, open(DATA_ROOT + '02.txt', 'r').readlines()))\n",
    "res1 = sum([is_valid1(pwd) for pwd in passwords])\n",
    "res2 = sum([is_valid2(pwd) for pwd in passwords])\n",
    "\n",
    "print(f'Number of valid passwords: {res1}, {res2}')"
   ]
  },
  {
   "cell_type": "code",
   "execution_count": 7,
   "metadata": {},
   "outputs": [
    {
     "name": "stdout",
     "output_type": "stream",
     "text": [
      "Num trees 1: 242\n",
      "Num trees 2: 2265549792\n"
     ]
    }
   ],
   "source": [
    "# DAY03\n",
    "import math \n",
    "\n",
    "def count_trees(rows, dx, dy):\n",
    "    h = len(rows)\n",
    "    if h == 0:\n",
    "        return 0\n",
    "    w = len(rows[0])\n",
    "    x, y = 0, 0\n",
    "    res = 0\n",
    "    while y < h:\n",
    "        res += rows[y][x % w] == '#'\n",
    "        x += dx\n",
    "        y += dy\n",
    "    return res\n",
    "\n",
    "rows = [x.strip() for x in open(DATA_ROOT + '03.txt', 'r').readlines()]\n",
    "res1 = count_trees(rows, 3, 1)\n",
    "print(f'Num trees 1: {res1}')\n",
    "\n",
    "SLOPES = [(1, 1), (3, 1), (5, 1), (7, 1), (1, 2)]\n",
    "res2 = math.prod((count_trees(rows, x, y) for (x, y) in SLOPES))\n",
    "print(f'Num trees 2: {res2}')"
   ]
  },
  {
   "cell_type": "code",
   "execution_count": 85,
   "metadata": {},
   "outputs": [
    {
     "name": "stdout",
     "output_type": "stream",
     "text": [
      "Valid passports 1: 264\n",
      "Valid passports 2: 224\n"
     ]
    }
   ],
   "source": [
    "# DAY04\n",
    "def read_doc(line):\n",
    "    return dict([x.split(':') for x in line.split()])\n",
    "\n",
    "REQUIRED_FIELDS = ['byr', 'iyr', 'eyr', 'hgt', 'hcl', 'ecl', 'pid']\n",
    "\n",
    "def is_valid1(passport):\n",
    "    return all(f in passport for f in REQUIRED_FIELDS)\n",
    "\n",
    "def in_range(int_str, minv, maxv):\n",
    "    try:\n",
    "        return minv <= int(int_str) <= maxv\n",
    "    except:\n",
    "        return False\n",
    "\n",
    "def is_valid_height(height_str):\n",
    "    match = re.match(r\"^(?P<in>\\d+)in|(?P<cm>\\d+)cm$\", height_str)\n",
    "    if match == None:\n",
    "        return False\n",
    "    hcm, hin = match.group('cm'), match.group('in')\n",
    "    if hcm != None:\n",
    "        return in_range(hcm, 150, 193)\n",
    "    elif hin != None:\n",
    "        return in_range(hin, 59, 76)\n",
    "    else:\n",
    "        return False\n",
    "\n",
    "VALID_EYE_COLORS = ['amb', 'blu', 'brn', 'gry', 'grn', 'hzl', 'oth']\n",
    "\n",
    "def is_valid2(passport):\n",
    "    return is_valid1(passport) \\\n",
    "        and in_range(passport['byr'], 1920, 2002) \\\n",
    "        and in_range(passport['iyr'], 2010, 2020) \\\n",
    "        and in_range(passport['eyr'], 2020, 2030) \\\n",
    "        and passport['ecl'] in VALID_EYE_COLORS \\\n",
    "        and re.match(r\"^(\\d{9})$\", passport['pid']) is not None \\\n",
    "        and re.match(r\"^#[0-9a-f]{6}$\", passport['hcl']) is not None \\\n",
    "        and is_valid_height(passport['hgt'])\n",
    "    \n",
    "lines = open(DATA_ROOT + '04.txt', 'r').read()\n",
    "passports = [read_doc(line) for line in lines.split(\"\\n\\n\")]\n",
    "\n",
    "print(f'Valid passports 1: {sum(map(is_valid1, passports))}')\n",
    "print(f'Valid passports 2: {sum(map(is_valid2, passports))}')"
   ]
  },
  {
   "cell_type": "code",
   "execution_count": 4,
   "metadata": {},
   "outputs": [
    {
     "name": "stdout",
     "output_type": "stream",
     "text": [
      "Max ID: 801, Seat: 597\n"
     ]
    }
   ],
   "source": [
    "# DAY05\n",
    "from functools import reduce\n",
    "\n",
    "def get_id(seat):\n",
    "    return reduce(lambda res, c: res * 2 + (c in 'BR'), seat, 0)\n",
    "\n",
    "lines = [x.strip() for x in open(DATA_ROOT + '05.txt', 'r').readlines()]\n",
    "ids = [get_id(line) for line in lines]\n",
    "\n",
    "idset = set(ids)\n",
    "seats = [id for id in range(1 << len(lines[0]))\n",
    "    if id not in idset and id + 1 in idset and id - 1 in idset]\n",
    "\n",
    "print(f'Max ID: {max(ids)}, Seat: {seats[0]}')"
   ]
  },
  {
   "cell_type": "code",
   "execution_count": 32,
   "metadata": {},
   "outputs": [
    {
     "name": "stdout",
     "output_type": "stream",
     "text": [
      "Answer 1: 6310, Answer 2: 3193\n"
     ]
    }
   ],
   "source": [
    "# DAY06\n",
    "groups = [g.split() for g in open(DATA_ROOT + '06.txt', 'r').read().split('\\n\\n')]\n",
    "\n",
    "res1, res2 = 0, 0\n",
    "for group in groups:\n",
    "    counts = {}\n",
    "    for answers in group:\n",
    "        for ans in answers:\n",
    "            if ans in counts:\n",
    "                counts[ans] += 1\n",
    "            else: \n",
    "                counts[ans] = 1\n",
    "    res1 += len(counts)\n",
    "    res2 += sum(counts[k] == len(group) for k in counts.keys())\n",
    "\n",
    "print(f'Answer 1: {res1}, Answer 2: {res2}')"
   ]
  },
  {
   "cell_type": "code",
   "execution_count": 11,
   "metadata": {},
   "outputs": [
    {
     "name": "stdout",
     "output_type": "stream",
     "text": [
      "Reachable: 370\n",
      "Contains: 29547\n"
     ]
    }
   ],
   "source": [
    "# DAY07\n",
    "def parse_mapping(line):\n",
    "    parts = line.split()\n",
    "    bag_color = ' '.join(parts[0:2])\n",
    "    res = {}\n",
    "    for i in range(4, len(parts), 4):\n",
    "        if parts[i] != 'no':\n",
    "            res[' '.join(parts[i + 1:i + 3])] = int(parts[i])\n",
    "    return (bag_color, res)\n",
    "\n",
    "def build_back_mapping(mapping):\n",
    "    res = {}\n",
    "    for (bag, children) in mapping.items():\n",
    "        for child in children.keys():\n",
    "            if child in res:\n",
    "                res[child].add(bag)\n",
    "            else:\n",
    "                res[child] = set([bag])\n",
    "    return res\n",
    "\n",
    "def count_reachable(root, back_mapping):\n",
    "    visited = set()\n",
    "    def rec(node):\n",
    "        if node in visited:\n",
    "            return 0\n",
    "        res = 1\n",
    "        if node in back_mapping:\n",
    "            for child in back_mapping[node]:\n",
    "                res += rec(child)\n",
    "        visited.add(node)\n",
    "        return res\n",
    "    return rec(root)\n",
    "    \n",
    "def count_contains(root, mapping):\n",
    "    res = 1\n",
    "    for (child, count) in mapping[root].items():\n",
    "        res += count * count_contains(child, mapping)\n",
    "    return res\n",
    "    \n",
    "ROOT = \"shiny gold\"\n",
    "\n",
    "lines = [g.strip() for g in open(DATA_ROOT + '07.txt', 'r').readlines()]\n",
    "mapping = dict(parse_mapping(line) for line in lines)\n",
    "back_mapping = build_back_mapping(mapping)\n",
    "\n",
    "print(f'Reachable: {count_reachable(ROOT, back_mapping) - 1}')\n",
    "print(f'Contains: {count_contains(ROOT, mapping) - 1}')"
   ]
  },
  {
   "cell_type": "code",
   "execution_count": 4,
   "metadata": {},
   "outputs": [
    {
     "name": "stdout",
     "output_type": "stream",
     "text": [
      "Answer 1: 1782, Answer 2: 797\n"
     ]
    }
   ],
   "source": [
    "# DAY08\n",
    "import enum\n",
    "\n",
    "class Op(enum.Enum): \n",
    "    acc = 1\n",
    "    nop = 2\n",
    "    jmp = 3\n",
    "    \n",
    "def parse_op(line):\n",
    "    parts = line.split()\n",
    "    return (Op[parts[0]], int(parts[1]))\n",
    "\n",
    "def eval_ops(ops, acc=0):\n",
    "    n = len(ops)\n",
    "    visited = [False]*n\n",
    "    ip = 0\n",
    "    while ip >= 0 and ip < n:\n",
    "        if visited[ip]:\n",
    "            return (False, acc)\n",
    "        visited[ip] = True\n",
    "\n",
    "        (op, val) = ops[ip]\n",
    "        if op == Op.jmp:\n",
    "            ip += val - 1\n",
    "        elif op == Op.acc:\n",
    "            acc += val\n",
    "        ip += 1\n",
    "    return (True, acc)\n",
    "\n",
    "def try_mutate_program(ops):\n",
    "    for i, (op, val) in enumerate(ops):\n",
    "        prevOp = op\n",
    "        if op == Op.jmp:\n",
    "            op = Op.nop\n",
    "        elif op == Op.nop:\n",
    "            op = Op.jmp\n",
    "        else:\n",
    "            continue\n",
    "            \n",
    "        ops[i] = (op, val)\n",
    "        (terminated, acc) = eval_ops(ops)\n",
    "        if terminated:\n",
    "            return acc\n",
    "        ops[i] = (prevOp, val)\n",
    "    \n",
    "ops = [parse_op(g.strip()) for g in open(DATA_ROOT + '08.txt', 'r').readlines()]\n",
    "\n",
    "print(f'Answer 1: {eval_ops(ops)[1]}, Answer 2: {try_mutate_program(ops)}')"
   ]
  },
  {
   "cell_type": "code",
   "execution_count": 36,
   "metadata": {},
   "outputs": [
    {
     "name": "stdout",
     "output_type": "stream",
     "text": [
      "First non-sum: 85848519\n",
      "Sum range: 13414198\n"
     ]
    }
   ],
   "source": [
    "# DAY09\n",
    "import bisect\n",
    "\n",
    "def get_first_non_sum(nums, k):\n",
    "    window = sorted(nums[:k])\n",
    "    for i in range(k, len(nums)):\n",
    "        l, r = 0, k - 1\n",
    "        s = nums[i]\n",
    "        while l < r:\n",
    "            if window[l] + window[r] < s:\n",
    "                l += 1\n",
    "            elif window[l] + window[r] > s:\n",
    "                r -= 1\n",
    "            else: \n",
    "                break\n",
    "        if l == r:\n",
    "            return s\n",
    "        bisect.insort(window, s)\n",
    "        del window[bisect.bisect_left(window, nums[i - k])]\n",
    "        \n",
    "def find_sum_range(nums, s):\n",
    "    l, r = 0, 0\n",
    "    cur_sum = nums[0]\n",
    "    n = len(nums)\n",
    "    while r < n - 1 and l < n - 1:\n",
    "        if cur_sum < s:\n",
    "            r += 1\n",
    "            cur_sum += nums[r]\n",
    "        elif cur_sum > s:\n",
    "            cur_sum -= nums[l]\n",
    "            l += 1\n",
    "        else:\n",
    "            break\n",
    "    if l != r:\n",
    "        return (l, r)\n",
    "        \n",
    "nums = [int(g) for g in open(DATA_ROOT + '09.txt', 'r').readlines()]\n",
    "\n",
    "WINDOW_SIZE = 25\n",
    "\n",
    "non_sum = get_first_non_sum(nums, WINDOW_SIZE)\n",
    "print(f'First non-sum: {non_sum}')\n",
    "\n",
    "(b, e) = find_sum_range(nums, non_sum)\n",
    "print(f'Sum range: {min(nums[b:e + 1]) + max(nums[b:e + 1])}')"
   ]
  },
  {
   "cell_type": "code",
   "execution_count": null,
   "metadata": {},
   "outputs": [],
   "source": []
  }
 ],
 "metadata": {
  "kernelspec": {
   "display_name": "Python 3",
   "language": "python",
   "name": "python3"
  },
  "language_info": {
   "codemirror_mode": {
    "name": "ipython",
    "version": 3
   },
   "file_extension": ".py",
   "mimetype": "text/x-python",
   "name": "python",
   "nbconvert_exporter": "python",
   "pygments_lexer": "ipython3",
   "version": "3.8.2"
  }
 },
 "nbformat": 4,
 "nbformat_minor": 4
}
