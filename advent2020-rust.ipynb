{
 "cells": [
  {
   "cell_type": "code",
   "execution_count": 7,
   "metadata": {},
   "outputs": [],
   "source": [
    "// SETUP\n",
    "use std::fs::File;\n",
    "use std::collections::HashMap;\n",
    "use std::str::FromStr;\n",
    "use std::io::{BufRead, BufReader, Error, ErrorKind, Read};\n",
    "\n",
    "fn read_lines(path: &str) -> Result<Vec<String>, Error> {\n",
    "    let file = File::open(path)?; \n",
    "    BufReader::new(file).lines().collect()\n",
    "}\n",
    "\n",
    "fn read_integers(path: &str) -> Result<Vec<i64>, Error> {\n",
    "    let mut v = Vec::new();\n",
    "    for line in read_lines(path)? {\n",
    "        let n = line   \n",
    "            .trim() \n",
    "            .parse() \n",
    "            .map_err(|e| Error::new(ErrorKind::InvalidData, e))?; \n",
    "        v.push(n);\n",
    "    }\n",
    "    Ok(v)\n",
    "}\n",
    "\n",
    "const DATA_ROOT: &str = \"data/\";\n",
    "\n",
    "fn data_file(problem_id: u32) -> String {\n",
    "    format!(\"{}/{:02}.txt\", DATA_ROOT, problem_id)\n",
    "}"
   ]
  },
  {
   "cell_type": "code",
   "execution_count": 65,
   "metadata": {},
   "outputs": [
    {
     "name": "stdout",
     "output_type": "stream",
     "text": [
      "1564 * 456 = 713184\n",
      "764 * 857 * 399 = 261244452\n"
     ]
    }
   ],
   "source": [
    "// DAY01\n",
    "\n",
    "const TOTAL: i64 = 2020;\n",
    "\n",
    "fn problem01() {    \n",
    "    let nums: Vec<i64> = read_integers(&data_file(1)).unwrap();    \n",
    "    let mut reg = HashMap::new();\n",
    "\n",
    "    for (i, n) in nums.iter().enumerate() {\n",
    "        let rest = TOTAL - n;\n",
    "        if reg.contains_key(&rest) {\n",
    "            println!(\"{} * {} = {}\", n, rest, n * rest);\n",
    "        }\n",
    "        reg.insert(n, i);\n",
    "    }\n",
    "    \n",
    "    for (i, n1) in nums.iter().enumerate() {\n",
    "        for j in (i + 1)..nums.len() {\n",
    "            let n2 = nums[j];\n",
    "            let rest = TOTAL - n1 - n2;\n",
    "            match reg.get(&rest) {\n",
    "                Some(k) if k > &j => {\n",
    "                    println!(\"{} * {} * {} = {}\", n1, n2, rest, n1 * n2 * rest)\n",
    "                },\n",
    "                _ => (),\n",
    "            }\n",
    "        }\n",
    "    }\n",
    "}\n",
    "\n",
    "problem01();"
   ]
  },
  {
   "cell_type": "code",
   "execution_count": 50,
   "metadata": {},
   "outputs": [
    {
     "name": "stdout",
     "output_type": "stream",
     "text": [
      "Number of valid passwords: 548, 502\n"
     ]
    }
   ],
   "source": [
    "// DAY02\n",
    "#[derive(Debug, PartialEq)]\n",
    "struct PasswordDesc {\n",
    "    cnt1: usize,\n",
    "    cnt2: usize,\n",
    "    ch: char,\n",
    "    pwd: String,\n",
    "}\n",
    "\n",
    "impl FromStr for PasswordDesc {\n",
    "    type Err = std::num::ParseIntError;\n",
    "    \n",
    "    fn from_str(s: &str) -> Result<Self, Self::Err> {\n",
    "        let parts: Vec<&str> = s.split(' ').collect();\n",
    "        let counts: Vec<usize> = parts[0]\n",
    "            .split('-')\n",
    "            .map(|p| p.parse().unwrap())\n",
    "            .collect();\n",
    "        Ok(PasswordDesc { \n",
    "            cnt1: counts[0], \n",
    "            cnt2: counts[1], \n",
    "            ch: parts[1].as_bytes()[0] as char, \n",
    "            pwd: parts[2].to_owned()})\n",
    "    }\n",
    "}\n",
    "\n",
    "fn is_valid1(p: &PasswordDesc) -> bool {\n",
    "    let cnt = p.pwd.matches(p.ch).count();\n",
    "    p.cnt1 <= cnt && cnt <= p.cnt2\n",
    "}\n",
    "\n",
    "fn is_valid2(p: &PasswordDesc) -> bool {\n",
    "    let pwd = p.pwd.as_bytes();\n",
    "    let ch = p.ch as u8;\n",
    "    (pwd[p.cnt1 - 1] == ch) ^ (pwd[p.cnt2 - 1] == ch)\n",
    "}\n",
    "\n",
    "fn problem02() {\n",
    "    let passwords: Vec<PasswordDesc> = \n",
    "        read_lines(&data_file(2)).unwrap()\n",
    "        .iter()\n",
    "        .filter_map(|line| line.parse().ok())\n",
    "        .collect();\n",
    "\n",
    "    println!(\"Number of valid passwords: {}, {}\", \n",
    "        passwords.iter().filter(|x| is_valid1(x)).count(), \n",
    "        passwords.iter().filter(|x| is_valid2(x)).count());\n",
    "}\n",
    "\n",
    "problem02();"
   ]
  },
  {
   "cell_type": "code",
   "execution_count": 69,
   "metadata": {},
   "outputs": [
    {
     "name": "stdout",
     "output_type": "stream",
     "text": [
      "Num trees 1: 242\n",
      "Num trees 2: 2265549792\n"
     ]
    }
   ],
   "source": [
    "const TREE: u8 = '#' as u8;\n",
    "\n",
    "fn count_trees(rows: &Vec<String>, dx: usize, dy: usize) -> usize {\n",
    "    let h = rows.len();\n",
    "    if h == 0 {\n",
    "        return 0;\n",
    "    }\n",
    "    let w = rows[0].len();\n",
    "    let mut x: usize = 0;\n",
    "    let mut res: usize = 0;\n",
    "    for y in (0..h).step_by(dy) {\n",
    "        res += (rows[y].as_bytes()[x % w] == TREE) as usize;\n",
    "        x += dx;\n",
    "    }\n",
    "    res\n",
    "}\n",
    "\n",
    "fn problem03() {\n",
    "    let rows = read_lines(&data_file(3)).unwrap();\n",
    "    let res1 = count_trees(&rows, 3, 1);\n",
    "    println!(\"Num trees 1: {}\", res1);\n",
    "    \n",
    "    let res2: usize = [(1, 1), (3, 1), (5, 1), (7, 1), (1, 2)]\n",
    "        .iter()\n",
    "        .map(|(dx, dy)| count_trees(&rows, *dx, *dy))\n",
    "        .product();\n",
    "    println!(\"Num trees 2: {}\", res2);\n",
    "}\n",
    "\n",
    "problem03();"
   ]
  },
  {
   "cell_type": "code",
   "execution_count": null,
   "metadata": {},
   "outputs": [],
   "source": []
  }
 ],
 "metadata": {
  "kernelspec": {
   "display_name": "Rust",
   "language": "rust",
   "name": "rust"
  },
  "language_info": {
   "codemirror_mode": "rust",
   "file_extension": ".rs",
   "mimetype": "text/rust",
   "name": "Rust",
   "pygment_lexer": "rust",
   "version": ""
  }
 },
 "nbformat": 4,
 "nbformat_minor": 4
}
