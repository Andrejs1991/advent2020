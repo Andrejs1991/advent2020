{
 "cells": [
  {
   "cell_type": "code",
   "execution_count": 3,
   "metadata": {},
   "outputs": [],
   "source": [
    "ROOT = '/Users/rshest/work/advent/'"
   ]
  },
  {
   "cell_type": "code",
   "execution_count": 20,
   "metadata": {},
   "outputs": [
    {
     "name": "stdout",
     "output_type": "stream",
     "text": [
      "1564 * 456 = 713184\n",
      "764 * 857 * 399 = 261244452\n"
     ]
    }
   ],
   "source": [
    "# DAY01\n",
    "nums = [int(x) for x in open(ROOT + '01.txt', 'r').readlines()]\n",
    "\n",
    "reg = {}\n",
    "\n",
    "TOTAL = 2020\n",
    "for i, n in enumerate(nums):\n",
    "    rest = TOTAL - n\n",
    "    if rest in reg:\n",
    "        print(f'{n} * {rest} = {n * rest}')\n",
    "    reg[n] = i\n",
    "    \n",
    "for i, n1 in enumerate(nums):\n",
    "    for j in range(i + 1, len(nums)):\n",
    "        n2 = nums[j]\n",
    "        rest = TOTAL - n1 - n2\n",
    "        if rest in reg and reg[rest] > j:\n",
    "            print(f'{n1} * {n2} * {rest} = {n1 * n2 * rest}')"
   ]
  }
 ],
 "metadata": {
  "kernelspec": {
   "display_name": "Python 3",
   "language": "python",
   "name": "python3"
  },
  "language_info": {
   "codemirror_mode": {
    "name": "ipython",
    "version": 3
   },
   "file_extension": ".py",
   "mimetype": "text/x-python",
   "name": "python",
   "nbconvert_exporter": "python",
   "pygments_lexer": "ipython3",
   "version": "3.8.2"
  }
 },
 "nbformat": 4,
 "nbformat_minor": 4
}
