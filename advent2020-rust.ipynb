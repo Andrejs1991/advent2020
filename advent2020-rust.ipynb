{
 "cells": [
  {
   "cell_type": "code",
   "execution_count": 2,
   "metadata": {},
   "outputs": [],
   "source": [
    "use std::fs::File;\n",
    "use std::io::{BufRead, BufReader, Error, ErrorKind, Read};\n",
    "\n",
    "fn read_integers(path: &str) -> Result<Vec<i64>, Error> {\n",
    "    let file = File::open(path)?; \n",
    "    let br = BufReader::new(file);\n",
    "    let mut v = Vec::new();\n",
    "    for line in br.lines() {\n",
    "        let line = line?;\n",
    "        let n = line   \n",
    "            .trim() \n",
    "            .parse() \n",
    "            .map_err(|e| Error::new(ErrorKind::InvalidData, e))?; \n",
    "        v.push(n);\n",
    "    }\n",
    "    Ok(v)\n",
    "}\n",
    "\n",
    "let ROOT = \"/Users/rshest/work/advent/\";"
   ]
  },
  {
   "cell_type": "code",
   "execution_count": 3,
   "metadata": {},
   "outputs": [
    {
     "name": "stdout",
     "output_type": "stream",
     "text": [
      "1564 * 456 = 713184\n",
      "764 * 857 * 399 = 261244452\n"
     ]
    },
    {
     "data": {
      "text/plain": [
       "()"
      ]
     },
     "execution_count": 3,
     "metadata": {},
     "output_type": "execute_result"
    }
   ],
   "source": [
    "// DAY01\n",
    "use std::collections::HashMap;\n",
    "\n",
    "const TOTAL: i64 = 2020;\n",
    "\n",
    "fn problem01(nums: Vec<i64>) {\n",
    "    let mut reg = HashMap::new();\n",
    "\n",
    "    for (i, n) in nums.iter().enumerate() {\n",
    "        let rest = TOTAL - n;\n",
    "        if reg.contains_key(&rest) {\n",
    "            println!(\"{} * {} = {}\", n, rest, n * rest);\n",
    "        }\n",
    "        reg.insert(n, i);\n",
    "    }\n",
    "    \n",
    "    for (i, n1) in nums.iter().enumerate() {\n",
    "        for j in (i + 1)..nums.len() {\n",
    "            let n2 = nums[j];\n",
    "            let rest = TOTAL - n1 - n2;\n",
    "            match reg.get(&rest) {\n",
    "                Some(k) if k > &j => {\n",
    "                    println!(\"{} * {} * {} = {}\", n1, n2, rest, n1 * n2 * rest)\n",
    "                },\n",
    "                _ => (),\n",
    "            }\n",
    "        }\n",
    "    }\n",
    "}\n",
    "\n",
    "let nums = read_integers(&format!(\"{}/01.txt\", ROOT))?;\n",
    "problem01(nums)"
   ]
  },
  {
   "cell_type": "code",
   "execution_count": null,
   "metadata": {},
   "outputs": [],
   "source": []
  }
 ],
 "metadata": {
  "kernelspec": {
   "display_name": "Rust",
   "language": "rust",
   "name": "rust"
  },
  "language_info": {
   "codemirror_mode": "rust",
   "file_extension": ".rs",
   "mimetype": "text/rust",
   "name": "Rust",
   "pygment_lexer": "rust",
   "version": ""
  }
 },
 "nbformat": 4,
 "nbformat_minor": 4
}
