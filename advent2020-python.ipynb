{
 "cells": [
  {
   "cell_type": "code",
   "execution_count": 3,
   "metadata": {},
   "outputs": [],
   "source": [
    "DATA_ROOT = 'data/'"
   ]
  },
  {
   "cell_type": "code",
   "execution_count": 2,
   "metadata": {},
   "outputs": [
    {
     "name": "stdout",
     "output_type": "stream",
     "text": [
      "1564 * 456 = 713184\n",
      "764 * 857 * 399 = 261244452\n"
     ]
    }
   ],
   "source": [
    "# DAY01\n",
    "nums = [int(x) for x in open(DATA_ROOT + '01.txt', 'r').readlines()]\n",
    "\n",
    "reg = {}\n",
    "\n",
    "TOTAL = 2020\n",
    "for i, n in enumerate(nums):\n",
    "    rest = TOTAL - n\n",
    "    if rest in reg:\n",
    "        print(f'{n} * {rest} = {n * rest}')\n",
    "    reg[n] = i\n",
    "    \n",
    "for i, n1 in enumerate(nums):\n",
    "    for j in range(i + 1, len(nums)):\n",
    "        n2 = nums[j]\n",
    "        rest = TOTAL - n1 - n2\n",
    "        if rest in reg and reg[rest] > j:\n",
    "            print(f'{n1} * {n2} * {rest} = {n1 * n2 * rest}')"
   ]
  },
  {
   "cell_type": "code",
   "execution_count": 3,
   "metadata": {},
   "outputs": [
    {
     "name": "stdout",
     "output_type": "stream",
     "text": [
      "Number of valid passwords: 548, 502\n"
     ]
    }
   ],
   "source": [
    "# DAY02\n",
    "def parse_line(line):\n",
    "    parts = line.strip().split()\n",
    "    counts = list(map(int, parts[0].split('-')))\n",
    "    return (counts[0], counts[1], parts[1][0], parts[2])\n",
    "\n",
    "def is_valid1(desc):\n",
    "    cnt1, cnt2, ch, pwd = desc\n",
    "    cnt = pwd.count(ch)\n",
    "    return cnt1 <= cnt <= cnt2\n",
    "\n",
    "def is_valid2(desc):\n",
    "    cnt1, cnt2, ch, pwd = desc\n",
    "    return (pwd[cnt1 - 1] == ch) ^ (pwd[cnt2 - 1] == ch)\n",
    "    \n",
    "passwords = list(map(parse_line, open(DATA_ROOT + '02.txt', 'r').readlines()))\n",
    "res1 = sum([is_valid1(pwd) for pwd in passwords])\n",
    "res2 = sum([is_valid2(pwd) for pwd in passwords])\n",
    "\n",
    "print(f'Number of valid passwords: {res1}, {res2}')"
   ]
  },
  {
   "cell_type": "code",
   "execution_count": 7,
   "metadata": {},
   "outputs": [
    {
     "name": "stdout",
     "output_type": "stream",
     "text": [
      "Num trees 1: 242\n",
      "Num trees 2: 2265549792\n"
     ]
    }
   ],
   "source": [
    "# DAY03\n",
    "import math \n",
    "\n",
    "def count_trees(rows, dx, dy):\n",
    "    h = len(rows)\n",
    "    if h == 0:\n",
    "        return 0\n",
    "    w = len(rows[0])\n",
    "    x, y = 0, 0\n",
    "    res = 0\n",
    "    while y < h:\n",
    "        res += rows[y][x % w] == '#'\n",
    "        x += dx\n",
    "        y += dy\n",
    "    return res\n",
    "\n",
    "rows = [x.strip() for x in open(DATA_ROOT + '03.txt', 'r').readlines()]\n",
    "res1 = count_trees(rows, 3, 1)\n",
    "print(f'Num trees 1: {res1}')\n",
    "\n",
    "SLOPES = [(1, 1), (3, 1), (5, 1), (7, 1), (1, 2)]\n",
    "res2 = math.prod((count_trees(rows, x, y) for (x, y) in SLOPES))\n",
    "print(f'Num trees 2: {res2}')"
   ]
  },
  {
   "cell_type": "code",
   "execution_count": 85,
   "metadata": {},
   "outputs": [
    {
     "name": "stdout",
     "output_type": "stream",
     "text": [
      "Valid passports 1: 264\n",
      "Valid passports 2: 224\n"
     ]
    }
   ],
   "source": [
    "# DAY04\n",
    "def read_doc(line):\n",
    "    return dict([x.split(':') for x in line.split()])\n",
    "\n",
    "REQUIRED_FIELDS = ['byr', 'iyr', 'eyr', 'hgt', 'hcl', 'ecl', 'pid']\n",
    "\n",
    "def is_valid1(passport):\n",
    "    return all(f in passport for f in REQUIRED_FIELDS)\n",
    "\n",
    "def in_range(int_str, minv, maxv):\n",
    "    try:\n",
    "        return minv <= int(int_str) <= maxv\n",
    "    except:\n",
    "        return False\n",
    "\n",
    "def is_valid_height(height_str):\n",
    "    match = re.match(r\"^(?P<in>\\d+)in|(?P<cm>\\d+)cm$\", height_str)\n",
    "    if match == None:\n",
    "        return False\n",
    "    hcm, hin = match.group('cm'), match.group('in')\n",
    "    if hcm != None:\n",
    "        return in_range(hcm, 150, 193)\n",
    "    elif hin != None:\n",
    "        return in_range(hin, 59, 76)\n",
    "    else:\n",
    "        return False\n",
    "\n",
    "VALID_EYE_COLORS = ['amb', 'blu', 'brn', 'gry', 'grn', 'hzl', 'oth']\n",
    "\n",
    "def is_valid2(passport):\n",
    "    return is_valid1(passport) \\\n",
    "        and in_range(passport['byr'], 1920, 2002) \\\n",
    "        and in_range(passport['iyr'], 2010, 2020) \\\n",
    "        and in_range(passport['eyr'], 2020, 2030) \\\n",
    "        and passport['ecl'] in VALID_EYE_COLORS \\\n",
    "        and re.match(r\"^(\\d{9})$\", passport['pid']) is not None \\\n",
    "        and re.match(r\"^#[0-9a-f]{6}$\", passport['hcl']) is not None \\\n",
    "        and is_valid_height(passport['hgt'])\n",
    "    \n",
    "lines = open(DATA_ROOT + '04.txt', 'r').read()\n",
    "passports = [read_doc(line) for line in lines.split(\"\\n\\n\")]\n",
    "\n",
    "print(f'Valid passports 1: {sum(map(is_valid1, passports))}')\n",
    "print(f'Valid passports 2: {sum(map(is_valid2, passports))}')"
   ]
  },
  {
   "cell_type": "code",
   "execution_count": 4,
   "metadata": {},
   "outputs": [
    {
     "name": "stdout",
     "output_type": "stream",
     "text": [
      "Max ID: 801, Seat: 597\n"
     ]
    }
   ],
   "source": [
    "# DAY05\n",
    "from functools import reduce\n",
    "\n",
    "def get_id(seat):\n",
    "    return reduce(lambda res, c: res * 2 + (c in 'BR'), seat, 0)\n",
    "\n",
    "lines = [x.strip() for x in open(DATA_ROOT + '05.txt', 'r').readlines()]\n",
    "ids = [get_id(line) for line in lines]\n",
    "\n",
    "idset = set(ids)\n",
    "seats = [id for id in range(1 << len(lines[0]))\n",
    "    if id not in idset and id + 1 in idset and id - 1 in idset]\n",
    "\n",
    "print(f'Max ID: {max(ids)}, Seat: {seats[0]}')"
   ]
  },
  {
   "cell_type": "code",
   "execution_count": null,
   "metadata": {},
   "outputs": [],
   "source": []
  }
 ],
 "metadata": {
  "kernelspec": {
   "display_name": "Python 3",
   "language": "python",
   "name": "python3"
  },
  "language_info": {
   "codemirror_mode": {
    "name": "ipython",
    "version": 3
   },
   "file_extension": ".py",
   "mimetype": "text/x-python",
   "name": "python",
   "nbconvert_exporter": "python",
   "pygments_lexer": "ipython3",
   "version": "3.8.2"
  }
 },
 "nbformat": 4,
 "nbformat_minor": 4
}
