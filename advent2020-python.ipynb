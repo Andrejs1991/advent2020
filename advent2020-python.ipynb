{
 "cells": [
  {
   "cell_type": "code",
   "execution_count": 1,
   "metadata": {},
   "outputs": [],
   "source": [
    "DATA_ROOT = 'data/'"
   ]
  },
  {
   "cell_type": "code",
   "execution_count": 2,
   "metadata": {},
   "outputs": [
    {
     "name": "stdout",
     "output_type": "stream",
     "text": [
      "1564 * 456 = 713184\n",
      "764 * 857 * 399 = 261244452\n"
     ]
    }
   ],
   "source": [
    "# DAY01\n",
    "nums = [int(x) for x in open(DATA_ROOT + '01.txt', 'r').readlines()]\n",
    "\n",
    "reg = {}\n",
    "\n",
    "TOTAL = 2020\n",
    "for i, n in enumerate(nums):\n",
    "    rest = TOTAL - n\n",
    "    if rest in reg:\n",
    "        print(f'{n} * {rest} = {n * rest}')\n",
    "    reg[n] = i\n",
    "    \n",
    "for i, n1 in enumerate(nums):\n",
    "    for j in range(i + 1, len(nums)):\n",
    "        n2 = nums[j]\n",
    "        rest = TOTAL - n1 - n2\n",
    "        if rest in reg and reg[rest] > j:\n",
    "            print(f'{n1} * {n2} * {rest} = {n1 * n2 * rest}')"
   ]
  },
  {
   "cell_type": "code",
   "execution_count": 3,
   "metadata": {},
   "outputs": [
    {
     "name": "stdout",
     "output_type": "stream",
     "text": [
      "Number of valid passwords: 548, 502\n"
     ]
    }
   ],
   "source": [
    "# DAY02\n",
    "\n",
    "def parse_line(line):\n",
    "    parts = line.strip().split()\n",
    "    counts = list(map(int, parts[0].split('-')))\n",
    "    return (counts[0], counts[1], parts[1][0], parts[2])\n",
    "\n",
    "def is_valid1(desc):\n",
    "    cnt1, cnt2, ch, pwd = desc\n",
    "    cnt = pwd.count(ch)\n",
    "    return cnt1 <= cnt <= cnt2\n",
    "\n",
    "def is_valid2(desc):\n",
    "    cnt1, cnt2, ch, pwd = desc\n",
    "    return (pwd[cnt1 - 1] == ch) ^ (pwd[cnt2 - 1] == ch)\n",
    "    \n",
    "passwords = list(map(parse_line, open(DATA_ROOT + '02.txt', 'r').readlines()))\n",
    "res1 = sum([is_valid1(pwd) for pwd in passwords])\n",
    "res2 = sum([is_valid2(pwd) for pwd in passwords])\n",
    "\n",
    "print(f'Number of valid passwords: {res1}, {res2}')"
   ]
  },
  {
   "cell_type": "code",
   "execution_count": null,
   "metadata": {},
   "outputs": [],
   "source": []
  }
 ],
 "metadata": {
  "kernelspec": {
   "display_name": "Python 3",
   "language": "python",
   "name": "python3"
  },
  "language_info": {
   "codemirror_mode": {
    "name": "ipython",
    "version": 3
   },
   "file_extension": ".py",
   "mimetype": "text/x-python",
   "name": "python",
   "nbconvert_exporter": "python",
   "pygments_lexer": "ipython3",
   "version": "3.8.2"
  }
 },
 "nbformat": 4,
 "nbformat_minor": 4
}
